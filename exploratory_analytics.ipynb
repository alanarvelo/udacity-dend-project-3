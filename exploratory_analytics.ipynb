{
 "cells": [
  {
   "cell_type": "code",
   "execution_count": 13,
   "metadata": {},
   "outputs": [],
   "source": [
    "import configparser\n",
    "import boto3\n",
    "\n",
    "config = configparser.ConfigParser()\n",
    "config.read(\"dwh.cfg\")\n",
    "CLUSTER_IDENTIFIER = config.get(\"CLUSTER\", \"CLUSTER_IDENTIFIER\")"
   ]
  },
  {
   "cell_type": "code",
   "execution_count": 14,
   "metadata": {},
   "outputs": [],
   "source": [
    "# Create cluster\n",
    "redshift = boto3.client(\n",
    "    \"redshift\",\n",
    "    region_name=config.get(\"CLUSTER\", \"DB_REGION\"),\n",
    "    aws_access_key_id=config.get(\"AWS\", \"ACCESS_KEY\"),\n",
    "    aws_secret_access_key=config.get(\"AWS\", \"SECRET_KEY\")\n",
    ")\n",
    "response = redshift.create_cluster(\n",
    "    ClusterIdentifier=CLUSTER_IDENTIFIER,\n",
    "    MasterUsername=config.get(\"CLUSTER\", \"DB_USER\"),\n",
    "    MasterUserPassword=config.get(\"CLUSTER\", \"DB_PASSWORD\"),\n",
    "    NodeType=\"dc2.large\",\n",
    "    ClusterType=\"multi-node\",\n",
    "    NumberOfNodes=4,\n",
    "    IamRoles=[config.get(\"IAM_ROLE\", \"ARN\")],\n",
    "    DBName=config.get(\"CLUSTER\", \"DB_NAME\")\n",
    ")"
   ]
  },
  {
   "cell_type": "code",
   "execution_count": 29,
   "metadata": {},
   "outputs": [
    {
     "data": {
      "text/plain": [
       "'available'"
      ]
     },
     "execution_count": 29,
     "metadata": {},
     "output_type": "execute_result"
    }
   ],
   "source": [
    "# Cluster status - make sure it's 'available'\n",
    "redshift.describe_clusters(ClusterIdentifier=CLUSTER_IDENTIFIER)['Clusters'][0][\"ClusterStatus\"]"
   ]
  },
  {
   "cell_type": "code",
   "execution_count": 30,
   "metadata": {},
   "outputs": [],
   "source": [
    "# Execute ETL on cluster\n",
    "%run create_tables.py\n",
    "%run etl.py"
   ]
  },
  {
   "cell_type": "code",
   "execution_count": 31,
   "metadata": {},
   "outputs": [],
   "source": [
    "# Connect to database\n",
    "conn = psycopg2.connect(\"host={} dbname={} user={} password={} port={}\".format(*config['CLUSTER'].values()))\n",
    "cur = conn.cursor()"
   ]
  },
  {
   "cell_type": "code",
   "execution_count": 32,
   "metadata": {},
   "outputs": [
    {
     "data": {
      "text/plain": [
       "[(8056,)]"
      ]
     },
     "execution_count": 32,
     "metadata": {},
     "output_type": "execute_result"
    }
   ],
   "source": [
    "# Number of rows in events staging table\n",
    "cur.execute(\"select count(*) from events_staging\")\n",
    "cur.fetchall()"
   ]
  },
  {
   "cell_type": "code",
   "execution_count": 33,
   "metadata": {},
   "outputs": [
    {
     "data": {
      "text/plain": [
       "[(14896,)]"
      ]
     },
     "execution_count": 33,
     "metadata": {},
     "output_type": "execute_result"
    }
   ],
   "source": [
    "# Number of rows in songs staging table\n",
    "cur.execute(\"select count(*) from songs_staging\")\n",
    "cur.fetchall()"
   ]
  },
  {
   "cell_type": "code",
   "execution_count": 34,
   "metadata": {},
   "outputs": [],
   "source": [
    "# Delete cluster\n",
    "#redshift.delete_cluster(ClusterIdentifier=CLUSTER_IDENTIFIER, SkipFinalClusterSnapshot=True)"
   ]
  }
 ],
 "metadata": {
  "kernelspec": {
   "display_name": "Python 3",
   "language": "python",
   "name": "python3"
  },
  "language_info": {
   "codemirror_mode": {
    "name": "ipython",
    "version": 3
   },
   "file_extension": ".py",
   "mimetype": "text/x-python",
   "name": "python",
   "nbconvert_exporter": "python",
   "pygments_lexer": "ipython3",
   "version": "3.7.3"
  }
 },
 "nbformat": 4,
 "nbformat_minor": 2
}
